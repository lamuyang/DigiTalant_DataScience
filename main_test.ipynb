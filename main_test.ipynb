{
 "cells": [
  {
   "cell_type": "code",
   "execution_count": 125,
   "metadata": {},
   "outputs": [],
   "source": [
    "import pandas as pd"
   ]
  },
  {
   "cell_type": "markdown",
   "metadata": {},
   "source": [
    "讀入交通資料"
   ]
  },
  {
   "cell_type": "code",
   "execution_count": 126,
   "metadata": {},
   "outputs": [],
   "source": [
    "traffic_A1 = pd.read_csv(\"data/108A1.csv\")\n",
    "traffic_A2_First = pd.read_csv(\"data/108A2_first_half.csv\")\n",
    "traffic_A2_Second = pd.read_csv(\"data/108A2_second_half.csv\")"
   ]
  },
  {
   "cell_type": "markdown",
   "metadata": {},
   "source": [
    "讀入雨量資料"
   ]
  },
  {
   "cell_type": "code",
   "execution_count": 127,
   "metadata": {},
   "outputs": [],
   "source": [
    "# w_kaohsiung = pd.read_csv(\"data/W_Kaohsiung.csv\")\n",
    "# w_NewTaipei = pd.read_csv(\"data/W_NewTaipei.csv\")\n",
    "# w_Taichung = pd.read_csv(\"data/W_Taichung.csv\")\n",
    "# w_Tainan = pd.read_csv(\"data/W_Tainan.csv\")\n",
    "# w_Taipei = pd.read_csv(\"data/W_Taipei.csv\")\n",
    "# w_Taoyuan = pd.read_csv(\"data/W_Taoyuan.csv\")"
   ]
  },
  {
   "cell_type": "markdown",
   "metadata": {},
   "source": [
    "將2019年所有資料放入"
   ]
  },
  {
   "cell_type": "code",
   "execution_count": 128,
   "metadata": {},
   "outputs": [],
   "source": [
    "def put_event_in_area(district):\n",
    "    output = []\n",
    "    for i in range(0,len(traffic_A1[\"發生時間\"])):\n",
    "        if traffic_A1[\"發生地點\"][i][0:3] == district:\n",
    "            output.append([traffic_A1[\"發生時間\"][i],traffic_A1[\"發生地點\"][i],traffic_A1[\"死亡受傷人數\"][i],traffic_A1[\"車種\"][i],traffic_A1[\"經度\"][i],traffic_A1[\"緯度\"][i]])\n",
    "    for i in range(0,len(traffic_A2_First[\"發生時間\"])):\n",
    "        if traffic_A2_First[\"發生地點\"][i][0:3] == district:\n",
    "            output.append([traffic_A2_First[\"發生時間\"][i],traffic_A2_First[\"發生地點\"][i],traffic_A2_First[\"死亡受傷人數\"][i],traffic_A2_First[\"車種\"][i],traffic_A2_First[\"經度\"][i],traffic_A2_First[\"緯度\"][i]])\n",
    "    for i in range(0,len(traffic_A2_Second[\"發生時間\"])):\n",
    "        if traffic_A2_Second[\"發生地點\"][i][0:3] == district:\n",
    "            output.append([traffic_A2_Second[\"發生時間\"][i],traffic_A2_Second[\"發生地點\"][i],traffic_A2_Second[\"死亡受傷人數\"][i],traffic_A2_Second[\"車種\"][i],traffic_A2_Second[\"經度\"][i],traffic_A2_Second[\"緯度\"][i]])\n",
    "    return output"
   ]
  },
  {
   "cell_type": "code",
   "execution_count": 129,
   "metadata": {},
   "outputs": [],
   "source": [
    "# Kaohsiung = put_event_in_area(\"高雄市\")\n",
    "# NewTaipei = put_event_in_area(\"新北市\")\n",
    "Taichung = put_event_in_area(\"臺中市\")\n",
    "# Tainan = put_event_in_area(\"臺南市\")\n",
    "# Taipei = put_event_in_area(\"臺北市\")\n",
    "# Taoyuan = put_event_in_area(\"桃園市\")"
   ]
  },
  {
   "cell_type": "markdown",
   "metadata": {},
   "source": [
    "讀入測站資料"
   ]
  },
  {
   "cell_type": "code",
   "execution_count": 130,
   "metadata": {},
   "outputs": [],
   "source": [
    "ob_station = pd.read_csv(\"data/observsation_station_fix.csv\")"
   ]
  },
  {
   "cell_type": "code",
   "execution_count": 131,
   "metadata": {},
   "outputs": [],
   "source": [
    "from math import radians, cos, sin, asin, sqrt\n",
    "def haversine(lon1, lat1, lon2, lat2):# 經度1，緯度1，經度2，緯度2 （十進制度數）\n",
    "    \"\"\"\n",
    "    Calculate the great circle distance between two points \n",
    "    on the earth (specified in decimal degrees)\n",
    "    \"\"\"\n",
    "    lon1, lat1, lon2, lat2 = map(radians, [lon1, lat1, lon2, lat2])\n",
    " \n",
    "    # haversine\n",
    "    dlon = lon2 - lon1 \n",
    "    dlat = lat2 - lat1 \n",
    "    a = sin(dlat/2)**2 + cos(lat1) * cos(lat2) * sin(dlon/2)**2\n",
    "    c = 2 * asin(sqrt(a)) \n",
    "    r = 6371 \n",
    "    return c * r"
   ]
  },
  {
   "cell_type": "code",
   "execution_count": 132,
   "metadata": {},
   "outputs": [
    {
     "name": "stdout",
     "output_type": "stream",
     "text": [
      "269.06333652610084\n"
     ]
    }
   ],
   "source": [
    "print(haversine(121.442017,24.997647,120.301278,22.814121))"
   ]
  },
  {
   "cell_type": "code",
   "execution_count": 133,
   "metadata": {},
   "outputs": [],
   "source": [
    "def get_distance(district):\n",
    "    for i in range(0,len(district)):\n",
    "        distance = {}\n",
    "        for j in range(0,len(ob_station)):\n",
    "            distance[ob_station[\"站名\"][j]] = haversine(ob_station[\"經度\"][j],ob_station[\"緯度\"][j],district[i][4],district[i][5])\n",
    "        district[i].append(sorted(distance.items(), key=lambda item: item[1])[0])\n",
    "    return district"
   ]
  },
  {
   "cell_type": "code",
   "execution_count": 134,
   "metadata": {},
   "outputs": [
    {
     "name": "stdout",
     "output_type": "stream",
     "text": [
      "['108年01月01日 22時16分00秒', '臺中市新社區協中里協中街前0.0公尺', '死亡1;受傷0', '普通重型-機車', 120.800091, 24.199220999999998, ('新社', 1.5973723312864787)]\n"
     ]
    }
   ],
   "source": [
    "for i in Taichung:\n",
    "    i = get_distance([i])\n",
    "print(Taichung[0])"
   ]
  },
  {
   "cell_type": "code",
   "execution_count": 135,
   "metadata": {},
   "outputs": [],
   "source": [
    "# district = [Kaohsiung, NewTaipei, Taichung, Tainan, Taipei, Taoyuan]\n",
    "# for i in district:\n",
    "#     i = get_distance(i)\n",
    "# print(district[0][0])"
   ]
  },
  {
   "cell_type": "code",
   "execution_count": 136,
   "metadata": {},
   "outputs": [],
   "source": [
    "cols = [\"發生時間\",\"發生地點\",\"死亡受傷人數\",\"車種\",\"經度\",\"緯度\",\"測站\"]\n",
    "\n",
    "pd.DataFrame(Taichung, columns=cols).to_csv('data/updated/fixed_Taichung.csv')"
   ]
  },
  {
   "cell_type": "code",
   "execution_count": 137,
   "metadata": {},
   "outputs": [],
   "source": [
    "# Kaohsiung = pd.read_csv(\"data/updated/Kaohsiung.csv\")\n",
    "# NewTaipei =  pd.read_csv(\"data/updated/NewTaipei.csv\")\n",
    "# Taichung =  pd.read_csv(\"data/updated/Taichung.csv\")\n",
    "# Tainan = pd.read_csv(\"data/updated/Tainan.csv\")\n",
    "# Taipei =  pd.read_csv(\"data/updated/Taipei.csv\")\n",
    "# Taoyuan = pd.read_csv(\"data/updated/Taoyuan.csv\")"
   ]
  },
  {
   "cell_type": "code",
   "execution_count": 138,
   "metadata": {},
   "outputs": [],
   "source": [
    "# ob_Kaohsiung = Kaohsiung[\"測站\"].to_list()\n",
    "# print(len(Kaohsiung[\"測站\"]))\n",
    "# print(ob_Kaohsiung)"
   ]
  },
  {
   "cell_type": "code",
   "execution_count": 139,
   "metadata": {},
   "outputs": [],
   "source": [
    "# all_observation = []\n",
    "# for j in district:\n",
    "#     for i in j:\n",
    "#         try:\n",
    "#             all_observation.append(i[6][0])\n",
    "#         except:\n",
    "#             print(i)\n",
    "# print(set(all_observation))\n",
    "# print(len(set(all_observation)))"
   ]
  },
  {
   "cell_type": "code",
   "execution_count": 140,
   "metadata": {},
   "outputs": [],
   "source": [
    "# all_observation_districk = []\n",
    "# with open(\"a_b.txt\",\"w\") as file:\n",
    "#     for i in all_observation:\n",
    "#         num = ob_station.index[ob_station[\"站名\"] == i].to_list()[0]\n",
    "#         all_observation_districk.append([ob_station[num:num+1][\"縣市\"].to_list()[0],i])\n",
    "#         file.write(str(ob_station[num:num+1][\"縣市\"].to_list()[0]))\n",
    "#         file.write(str(i))\n",
    "#         file.write(\"\\n\")\n",
    "#     print(all_observation_districk)\n",
    "#     print(len(all_observation_districk))"
   ]
  },
  {
   "cell_type": "code",
   "execution_count": 141,
   "metadata": {},
   "outputs": [
    {
     "data": {
      "text/plain": [
       "228426"
      ]
     },
     "execution_count": 141,
     "metadata": {},
     "output_type": "execute_result"
    }
   ],
   "source": [
    "43132+ 185294"
   ]
  },
  {
   "cell_type": "code",
   "execution_count": 142,
   "metadata": {},
   "outputs": [
    {
     "data": {
      "text/plain": [
       "261"
      ]
     },
     "execution_count": 142,
     "metadata": {},
     "output_type": "execute_result"
    }
   ],
   "source": [
    "118+143"
   ]
  },
  {
   "cell_type": "code",
   "execution_count": null,
   "metadata": {},
   "outputs": [],
   "source": []
  }
 ],
 "metadata": {
  "kernelspec": {
   "display_name": "Python 3.6.8 ('venv': venv)",
   "language": "python",
   "name": "python3"
  },
  "language_info": {
   "codemirror_mode": {
    "name": "ipython",
    "version": 3
   },
   "file_extension": ".py",
   "mimetype": "text/x-python",
   "name": "python",
   "nbconvert_exporter": "python",
   "pygments_lexer": "ipython3",
   "version": "3.6.8"
  },
  "orig_nbformat": 4,
  "vscode": {
   "interpreter": {
    "hash": "b55af0a5edf9875be5f14831d3c9d32ce883eefb12aba86f7dfec70c01e24ec2"
   }
  }
 },
 "nbformat": 4,
 "nbformat_minor": 2
}
