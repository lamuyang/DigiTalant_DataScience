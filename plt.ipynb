{
 "cells": [
  {
   "cell_type": "code",
   "execution_count": 143,
   "metadata": {},
   "outputs": [],
   "source": [
    "import pandas as pd\n",
    "from collections import defaultdict,OrderedDict\n",
    "def change_time_format(time):\n",
    "    time = time.replace(\"年\",\"-\").replace(\"月\",\"-\").replace(\"日\",\"\").replace(\"時\",\":\").replace(\"分\",\":\").replace(\"秒\",\"\")\n",
    "    year = int(time.split(\"-\")[0])\n",
    "    time = time.replace(str(year),str(year+1911))\n",
    "    time = time.split()\n",
    "    ac_time = time[1].split(\":\")\n",
    "    if int(ac_time[1]) > 0:\n",
    "        ac_time[1] = \"00\"\n",
    "        ac_time[0] = str(int(ac_time[0])+1)\n",
    "    if len(ac_time[0]) < 2:\n",
    "        ac_time[0] = \"0\" + ac_time[0]\n",
    "    if ac_time[0] == '24':\n",
    "        return time[0]+\" \"+\"23\"+\":00:00\"\n",
    "    else:\n",
    "        return time[0]+\" \"+ac_time[0]+\":00:00\"\n",
    "\n",
    "def get_weather_data(district):\n",
    "    import os\n",
    "    path = \"data/weather/all_data\"\n",
    "    all_weather = {}\n",
    "    for filename in os.listdir(path):\n",
    "        all_weather[filename.replace(\".csv\",\"\")] = pd.read_csv(path+\"/\"+filename)\n",
    "    DataWithWeather = []\n",
    "    # 雨量\n",
    "    all_rain =  defaultdict(list)\n",
    "    # 風速\n",
    "    all_WS = defaultdict(list)\n",
    "    # 最大陣風\n",
    "    all_WSGust = defaultdict(list)\n",
    "    T_time = []\n",
    "    for i in district[\"發生時間\"].to_list():\n",
    "        T_time.append(change_time_format(i))\n",
    "    count_rain_dic = defaultdict()\n",
    "    count_WS_dic = defaultdict()\n",
    "    count_WSGust_dic = defaultdict()\n",
    "    for i in range(0,len(district[\"測站\"].to_list())):\n",
    "        try:\n",
    "            a = all_weather[district[\"測站\"].to_list()[i].split(\"\\'\")[1]][\"Unnamed: 18\"].to_list().index(T_time[i])\n",
    "            precp = all_weather[district[\"測站\"].to_list()[i].split(\"\\'\")[1]][\"Precp\"].to_list()[a]\n",
    "            if precp == \"t\" or precp == \"T\" or precp == \"&\" or precp == \"X\":\n",
    "                precp = float(0.0)\n",
    "                count_rain = all_weather[district[\"測站\"].to_list()[i].split(\"\\'\")[1]][\"Precp\"].to_list().count(\"t\") + all_weather[district[\"測站\"].to_list()[i].split(\"\\'\")[1]][\"Precp\"].to_list().count(\"T\") + all_weather[district[\"測站\"].to_list()[i].split(\"\\'\")[1]][\"Precp\"].to_list().count(\"&\") + all_weather[district[\"測站\"].to_list()[i].split(\"\\'\")[1]][\"Precp\"].to_list().count(\"X\") + all_weather[district[\"測站\"].to_list()[i].split(\"\\'\")[1]][\"Precp\"].to_list().count(0.0)\n",
    "            else:\n",
    "                count_rain = all_weather[district[\"測站\"].to_list()[i].split(\"\\'\")[1]][\"Precp\"].to_list().count(precp)\n",
    "            if precp not in count_rain_dic.keys():\n",
    "                count_rain_dic[str(precp)] = count_rain\n",
    "            WS = all_weather[district[\"測站\"].to_list()[i].split(\"\\'\")[1]][\"WS\"].to_list()[a]\n",
    "            if WS == \"/\" or WS == \"X\" or WS == \"...\":\n",
    "                WS = float(0.0)\n",
    "                count_WS = all_weather[district[\"測站\"].to_list()[i].split(\"\\'\")[1]][\"WS\"].to_list().count(\"/\") + all_weather[district[\"測站\"].to_list()[i].split(\"\\'\")[1]][\"WS\"].to_list().count(\"X\") + all_weather[district[\"測站\"].to_list()[i].split(\"\\'\")[1]][\"WS\"].to_list().count(\"...\") + all_weather[district[\"測站\"].to_list()[i].split(\"\\'\")[1]][\"WS\"].to_list().count(0.0)\n",
    "            else:\n",
    "                count_WS = all_weather[district[\"測站\"].to_list()[i].split(\"\\'\")[1]][\"WS\"].to_list().count(WS)\n",
    "            if WS not in count_WS_dic.keys():\n",
    "                count_WS_dic[str(WS)] = count_WS\n",
    "            WSGust = all_weather[district[\"測站\"].to_list()[i].split(\"\\'\")[1]][\"WSGust\"].to_list()[a]\n",
    "            if WSGust == \"...\" or WSGust == \"X\":\n",
    "                WSGust = float(0.0)\n",
    "                count_WSGust = all_weather[district[\"測站\"].to_list()[i].split(\"\\'\")[1]][\"WSGust\"].to_list().count(\"...\") + all_weather[district[\"測站\"].to_list()[i].split(\"\\'\")[1]][\"WSGust\"].to_list().count(\"X\") + all_weather[district[\"測站\"].to_list()[i].split(\"\\'\")[1]][\"WSGust\"].to_list().count(0.0)\n",
    "            else:\n",
    "                count_WSGust = all_weather[district[\"測站\"].to_list()[i].split(\"\\'\")[1]][\"WSGust\"].to_list().count(WSGust)\n",
    "            if WSGust not in count_WSGust_dic.keys():\n",
    "                count_WSGust_dic[str(WSGust)] = count_WSGust\n",
    "            DataWithWeather.append([float(precp),float(WS),float(WSGust)])\n",
    "            all_rain[T_time[i].split()[1].split(\":\")[0]].append(float(precp))\n",
    "            all_WS[T_time[i].split()[1].split(\":\")[0]].append(float(WS))\n",
    "            all_WSGust[T_time[i].split()[1].split(\":\")[0]].append(float(WSGust))\n",
    "        except KeyError:\n",
    "            DataWithWeather.append([\"err\"])\n",
    "        except ValueError:\n",
    "            DataWithWeather.append([\"err\"])\n",
    "    return all_rain, all_WS, all_WSGust, count_rain_dic, count_WS_dic, count_WSGust_dic"
   ]
  },
  {
   "cell_type": "code",
   "execution_count": 144,
   "metadata": {},
   "outputs": [],
   "source": [
    "Taipei =  pd.read_csv(\"data/updated/fixed_1_Taipei.csv\")\n",
    "New_Taipei =  pd.read_csv(\"data/updated/fixed_NewTaipei.csv\")\n",
    "Taoyuan = pd.read_csv(\"data/updated/fixed_Taoyuan.csv\")\n",
    "Tainan = pd.read_csv(\"data/updated/fixed_Tainan.csv\")\n",
    "Kaohsiung = pd.read_csv(\"data/updated/fixed_Kaohsiung.csv\")"
   ]
  },
  {
   "cell_type": "code",
   "execution_count": 145,
   "metadata": {},
   "outputs": [],
   "source": [
    "def draw(weather_data):\n",
    "    clear_data = defaultdict()\n",
    "    temp = []\n",
    "    for i in weather_data.keys():\n",
    "        temp.append(i)\n",
    "    y = []\n",
    "    for i in temp:\n",
    "        for j in weather_data[i]:\n",
    "            if j not in clear_data.keys():\n",
    "                clear_data[j] = 1\n",
    "            else:\n",
    "                clear_data[j] += 1\n",
    "    x = list(OrderedDict(sorted(clear_data.items())))\n",
    "    # x.pop(0)\n",
    "    for i in x:\n",
    "        y.append(clear_data[i])\n",
    "    print(x)\n",
    "    print(y)\n",
    "    # 以下可以開始畫圖\n",
    "    import matplotlib.pyplot as plt\n",
    "    plt.bar(x,y)\n",
    "    plt.show()\n",
    "    \n",
    "# draw(all_WS)"
   ]
  },
  {
   "cell_type": "markdown",
   "metadata": {},
   "source": [
    "### 台北"
   ]
  },
  {
   "cell_type": "code",
   "execution_count": null,
   "metadata": {},
   "outputs": [],
   "source": []
  },
  {
   "cell_type": "code",
   "execution_count": 146,
   "metadata": {},
   "outputs": [],
   "source": [
    "def new_draw(weather_data,count_data):\n",
    "    new = []\n",
    "    clear_data = defaultdict()\n",
    "    temp = []\n",
    "    for i in weather_data.keys():\n",
    "        temp.append(i)\n",
    "    y = []\n",
    "    for i in temp:\n",
    "        for j in weather_data[i]:\n",
    "            if j not in clear_data.keys():\n",
    "                clear_data[j] = 1\n",
    "            else:\n",
    "                clear_data[j] += 1\n",
    "    x = list(OrderedDict(sorted(clear_data.items())))\n",
    "    for i in x:\n",
    "        new.append(round(count_data[str(i)]/clear_data[i],5))\n",
    "        y.append(clear_data[i])\n",
    "    # print(x)\n",
    "    # print(y)\n",
    "    # print(new)\n",
    "    import matplotlib.pyplot as plt\n",
    "    plt.bar(x,new)\n",
    "    plt.show()\n",
    "    # draw(all_rain)\n",
    "    # draw(all_WS)\n",
    "    # draw(all_WSGust)"
   ]
  },
  {
   "cell_type": "code",
   "execution_count": 147,
   "metadata": {},
   "outputs": [
    {
     "data": {
      "image/png": "[encoded data removed]",
      "text/plain": [
       "<Figure size 432x288 with 1 Axes>"
      ]
     },
     "metadata": {
      "needs_background": "light"
     },
     "output_type": "display_data"
    },
    {
     "data": {
      "image/png": "[encoded data removed]",
      "text/plain": [
       "<Figure size 432x288 with 1 Axes>"
      ]
     },
     "metadata": {
      "needs_background": "light"
     },
     "output_type": "display_data"
    },
    {
     "data": {
      "image/png": "[encoded data removed]",
      "text/plain": [
       "<Figure size 432x288 with 1 Axes>"
      ]
     },
     "metadata": {
      "needs_background": "light"
     },
     "output_type": "display_data"
    }
   ],
   "source": [
    "all_rain, all_WS, all_WSGust, count_rain_dic, count_WS_dic, count_WSGust_dic = get_weather_data(Taipei)\n",
    "new_draw(all_rain,count_rain_dic)\n",
    "new_draw(all_WS, count_WS_dic)\n",
    "new_draw(all_WSGust, count_WSGust_dic)"
   ]
  },
  {
   "cell_type": "markdown",
   "metadata": {},
   "source": [
    "### 新北"
   ]
  },
  {
   "cell_type": "code",
   "execution_count": 142,
   "metadata": {},
   "outputs": [
    {
     "data": {
      "image/png": "[encoded data removed]",
      "text/plain": [
       "<Figure size 432x288 with 1 Axes>"
      ]
     },
     "metadata": {
      "needs_background": "light"
     },
     "output_type": "display_data"
    },
    {
     "data": {
      "image/png": "[encoded data removed]",
      "text/plain": [
       "<Figure size 432x288 with 1 Axes>"
      ]
     },
     "metadata": {
      "needs_background": "light"
     },
     "output_type": "display_data"
    },
    {
     "data": {
      "image/png": "[encoded data removed]",
      "text/plain": [
       "<Figure size 432x288 with 1 Axes>"
      ]
     },
     "metadata": {
      "needs_background": "light"
     },
     "output_type": "display_data"
    }
   ],
   "source": [
    "all_rain, all_WS, all_WSGust, count_rain_dic, count_WS_dic, count_WSGust_dic = get_weather_data(New_Taipei)\n",
    "new_draw(all_rain,count_rain_dic)\n",
    "new_draw(all_WS, count_WS_dic)\n",
    "new_draw(all_WSGust, count_WSGust_dic)"
   ]
  },
  {
   "cell_type": "markdown",
   "metadata": {},
   "source": [
    "### 桃園"
   ]
  },
  {
   "cell_type": "code",
   "execution_count": 148,
   "metadata": {},
   "outputs": [],
   "source": [
    "all_rain, all_WS, all_WSGust, count_rain_dic, count_WS_dic, count_WSGust_dic = get_weather_data(Taoyuan)\n",
    "new_draw(all_rain,count_rain_dic)\n",
    "new_draw(all_WS, count_WS_dic)\n",
    "new_draw(all_WSGust, count_WSGust_dic)"
   ]
  },
  {
   "cell_type": "markdown",
   "metadata": {},
   "source": [
    "### 台南"
   ]
  },
  {
   "cell_type": "code",
   "execution_count": null,
   "metadata": {},
   "outputs": [],
   "source": [
    "all_rain, all_WS, all_WSGust, count_rain_dic, count_WS_dic, count_WSGust_dic = get_weather_data(Tainan)\n",
    "new_draw(all_rain,count_rain_dic)\n",
    "new_draw(all_WS, count_WS_dic)\n",
    "new_draw(all_WSGust, count_WSGust_dic)"
   ]
  },
  {
   "cell_type": "markdown",
   "metadata": {},
   "source": [
    "### 高雄"
   ]
  },
  {
   "cell_type": "code",
   "execution_count": null,
   "metadata": {},
   "outputs": [],
   "source": [
    "all_rain, all_WS, all_WSGust, count_rain_dic, count_WS_dic, count_WSGust_dic = get_weather_data(Kaohsiung)\n",
    "new_draw(all_rain,count_rain_dic)\n",
    "new_draw(all_WS, count_WS_dic)\n",
    "new_draw(all_WSGust, count_WSGust_dic)"
   ]
  }
 ],
 "metadata": {
  "kernelspec": {
   "display_name": "Python 3.6.8 ('venv': venv)",
   "language": "python",
   "name": "python3"
  },
  "language_info": {
   "codemirror_mode": {
    "name": "ipython",
    "version": 3
   },
   "file_extension": ".py",
   "mimetype": "text/x-python",
   "name": "python",
   "nbconvert_exporter": "python",
   "pygments_lexer": "ipython3",
   "version": "3.6.8"
  },
  "orig_nbformat": 4,
  "vscode": {
   "interpreter": {
    "hash": "b55af0a5edf9875be5f14831d3c9d32ce883eefb12aba86f7dfec70c01e24ec2"
   }
  }
 },
 "nbformat": 4,
 "nbformat_minor": 2
}
