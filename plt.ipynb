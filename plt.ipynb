{
 "cells": [
  {
   "cell_type": "code",
   "execution_count": 38,
   "metadata": {},
   "outputs": [
    {
     "data": {
      "text/plain": [
       "'\\nT_time = []\\nfor i in Taipei[\"發生時間\"].to_list():\\n    T_time.append(change_time_format(i))\\n\\nfor i in range(0,len(Taipei[\"測站\"].to_list())):\\n    # print(Taipei[\"測站\"].to_list()[i].split(\"\\'\")[1])\\n    # print(T_time[i].split()[1].split(\":\")[0])\\n    a = all_weather[Taipei[\"測站\"].to_list()[i].split(\"\\'\")[1]][\"Unnamed: 18\"].to_list().index(T_time[i])\\n    # print(a)\\n    precp = all_weather[Taipei[\"測站\"].to_list()[i].split(\"\\'\")[1]][\"Precp\"].to_list()[a]\\n    if precp == \"t\" or precp == \"T\" or precp == \"&\":\\n        precp = float(0.0)\\n    WS = all_weather[Taipei[\"測站\"].to_list()[i].split(\"\\'\")[1]][\"WS\"].to_list()[a]\\n    if WS == \"/\" or WS == \"X\":\\n        WS = float(0.0)\\n    WSGust = all_weather[Taipei[\"測站\"].to_list()[i].split(\"\\'\")[1]][\"WSGust\"].to_list()[a]\\n    if WSGust == \"...\":\\n        WSGust = float(0.0)\\n    # print([float(precp),float(WS),float(WSGust)])\\n    DataWithWeather.append([float(precp),float(WS),float(WSGust)])\\n    data_dic[T_time[i].split()[1].split(\":\")[0]].append(float(precp))\\n\\nprint(len(DataWithWeather))\\nprint(DataWithWeather.count([\"err\"]))\\n'"
      ]
     },
     "execution_count": 38,
     "metadata": {},
     "output_type": "execute_result"
    }
   ],
   "source": [
    "# from numpy import append\n",
    "# import pandas as pd\n",
    "# from collections import defaultdict\n",
    "\n",
    "# # 讀入交通資料\n",
    "# traffic_A1 = pd.read_csv(\"data/108A1.csv\")\n",
    "# traffic_A2_First = pd.read_csv(\"data/108A2_first_half.csv\")\n",
    "# traffic_A2_Second = pd.read_csv(\"data/108A2_second_half.csv\")\n",
    "\n",
    "# # 讀入六都氣象資料\n",
    "# # w_kaohsiung = pd.read_csv(\"data/W_Kaohsiung.csv\")\n",
    "# # w_NewTaipei = pd.read_csv(\"data/W_NewTaipei.csv\")\n",
    "# # w_Taichung = pd.read_csv(\"data/W_Taichung.csv\")\n",
    "# # w_Tainan = pd.read_csv(\"data/W_Tainan.csv\")\n",
    "# # w_Taipei = pd.read_csv(\"data/W_Taipei.csv\")\n",
    "# # w_Taoyuan = pd.read_csv(\"data/W_Taoyuan.csv\")\n",
    "\n",
    "# #將2019年所有資料放入\n",
    "# def put_event_in_area(district):\n",
    "#     output = []\n",
    "#     for i in range(0,len(traffic_A1[\"發生時間\"])):\n",
    "#         if traffic_A1[\"發生地點\"][i][0:3] == district:\n",
    "#             output.append([traffic_A1[\"發生時間\"][i],traffic_A1[\"發生地點\"][i],traffic_A1[\"死亡受傷人數\"][i],traffic_A1[\"車種\"][i],traffic_A1[\"經度\"][i],traffic_A1[\"緯度\"][i]])\n",
    "#     for i in range(0,len(traffic_A2_First[\"發生時間\"])):\n",
    "#         if traffic_A2_First[\"發生地點\"][i][0:3] == district:\n",
    "#             output.append([traffic_A2_First[\"發生時間\"][i],traffic_A2_First[\"發生地點\"][i],traffic_A2_First[\"死亡受傷人數\"][i],traffic_A2_First[\"車種\"][i],traffic_A2_First[\"經度\"][i],traffic_A2_First[\"緯度\"][i]])\n",
    "#     for i in range(0,len(traffic_A2_Second[\"發生時間\"])):\n",
    "#         if traffic_A2_Second[\"發生地點\"][i][0:3] == district:\n",
    "#             output.append([traffic_A2_Second[\"發生時間\"][i],traffic_A2_Second[\"發生地點\"][i],traffic_A2_Second[\"死亡受傷人數\"][i],traffic_A2_Second[\"車種\"][i],traffic_A2_Second[\"經度\"][i],traffic_A2_Second[\"緯度\"][i]])\n",
    "#     print(len(output))\n",
    "#     return output\n",
    "\n",
    "# Kaohsiung = put_event_in_area(\"高雄市\")\n",
    "# NewTaipei = put_event_in_area(\"新北市\")\n",
    "# Taichung = put_event_in_area(\"臺中市\")\n",
    "# Tainan = put_event_in_area(\"臺南市\")\n",
    "# Taipei = put_event_in_area(\"臺北市\")\n",
    "# Taoyuan = put_event_in_area(\"桃園市\")\n",
    "\n",
    "# # Kaohsiung, NewTaipei, Taichung, Tainan, Taipei, Taoyuan\n",
    "# # 台北市、高雄市、新北市、台中市、台南市、桃園市\n",
    "\n",
    "# put_event_in_area(\"高雄市\")\n",
    "\n",
    "\n",
    "\n",
    "from sqlite3 import Date\n",
    "import pandas as pd\n",
    "\n",
    "'''\n",
    "ob_station = pd.read_csv(\"data/observsation_station.csv\")\n",
    "\n",
    "Kaohsiung = pd.read_csv(\"data/updated/Kaohsiung.csv\")\n",
    "NewTaipei =  pd.read_csv(\"data/updated/NewTaipei.csv\")\n",
    "Taichung =  pd.read_csv(\"data/updated/Taichung.csv\")\n",
    "Tainan = pd.read_csv(\"data/updated/Tainan.csv\")\n",
    "Taipei =  pd.read_csv(\"data/updated/Taipei.csv\")\n",
    "Taoyuan = pd.read_csv(\"data/updated/Taoyuan.csv\")\n",
    "\n",
    "\n",
    "unique_ob = []\n",
    "district = [Kaohsiung, NewTaipei, Taichung, Tainan, Taipei, Taoyuan]\n",
    "for j in district:\n",
    "    for i in j[\"測站\"].to_list():\n",
    "        unique_ob.append(i.split('\\'')[1])\n",
    "# print(list(set(unique_ob)))\n",
    "\n",
    "all_observation_districk = []\n",
    "for i in unique_ob:\n",
    "    num = ob_station.index[ob_station[\"站名\"] == i].to_list()[0] - 1\n",
    "    try:\n",
    "        all_observation_districk.append([ob_station[num+1:num+2][\"縣市\"].to_list()[0],i])\n",
    "    except:\n",
    "        print(i)\n",
    "        print(num)\n",
    "        break\n",
    "        # print(ob_station[num:num+1][\"縣市\"].to_list()[0])\n",
    "print(\"done1\")\n",
    "print(len(all_observation_districk))\n",
    "temp = {}\n",
    "for i in all_observation_districk:\n",
    "    if i[0] not in temp:\n",
    "        temp[i[0]] = [i[1]]\n",
    "        print(f\"added {i[0]}\")\n",
    "        print(temp)\n",
    "    else:\n",
    "        if i[1] not in temp[i[0]]:\n",
    "            temp[i[0]].append(i[1])\n",
    "\n",
    "print(temp)\n",
    "print(len(temp))\n",
    "\n",
    "# print(set(all_observation_districk))\n",
    "# print(len(all_observation_districk))\n",
    "'''\n",
    "\n",
    "def change_time_format(time):\n",
    "    time = time.replace(\"年\",\"-\").replace(\"月\",\"-\").replace(\"日\",\"\").replace(\"時\",\":\").replace(\"分\",\":\").replace(\"秒\",\"\")\n",
    "    year = int(time.split(\"-\")[0])\n",
    "    time = time.replace(str(year),str(year+1911))\n",
    "    time = time.split()\n",
    "    ac_time = time[1].split(\":\")\n",
    "    if int(ac_time[1]) > 0:\n",
    "        ac_time[1] = \"00\"\n",
    "        ac_time[0] = str(int(ac_time[0])+1)\n",
    "    if len(ac_time[0]) < 2:\n",
    "        ac_time[0] = \"0\" + ac_time[0]\n",
    "    if ac_time[0] == '24':\n",
    "        return time[0]+\" \"+\"23\"+\":00:00\"\n",
    "    else:\n",
    "        return time[0]+\" \"+ac_time[0]+\":00:00\"\n",
    "# 2019-01-01 00:00:00\n",
    "# 108年01月01日 01時54分00秒\n",
    "# print(change_time_format(\"108年01月01日 01時54分00秒\"))\n",
    "import os\n",
    "path = \"data/weather/all_data\"\n",
    "all_weather = {}\n",
    "for filename in os.listdir(path):\n",
    "    all_weather[filename.replace(\".csv\",\"\")] = pd.read_csv(path+\"/\"+filename)\n",
    "DataWithWeather = []\n",
    "from collections import defaultdict\n",
    "data_dic =  defaultdict(list)\n",
    "spring_rain = defaultdict(list)\n",
    "summer_rain = defaultdict(list)\n",
    "autume_rain = defaultdict(list)\n",
    "winter_rain = defaultdict(list)\n",
    "all_WS = defaultdict(list)\n",
    "spring_WS = defaultdict(list)\n",
    "summer_WS = defaultdict(list)\n",
    "autume_WS = defaultdict(list)\n",
    "winter_WS = defaultdict(list)\n",
    "all_WSGust = defaultdict(list)\n",
    "spring_WSGust = defaultdict(list)\n",
    "summer_WSGust = defaultdict(list)\n",
    "autume_WSGust = defaultdict(list)\n",
    "winter_WSGust = defaultdict(list)\n",
    "def get_weather_data(district):\n",
    "    T_time = []\n",
    "    for i in district[\"發生時間\"].to_list():\n",
    "        T_time.append(change_time_format(i))\n",
    "    for i in range(0,len(district[\"測站\"].to_list())):\n",
    "        try:\n",
    "            # print(district[\"測站\"].to_list()[i].split(\"\\'\")[1])\n",
    "            # print(T_time[i].split()[1].split(\":\")[0])\n",
    "            a = all_weather[district[\"測站\"].to_list()[i].split(\"\\'\")[1]][\"Unnamed: 18\"].to_list().index(T_time[i])\n",
    "            # print(a)\n",
    "            precp = all_weather[district[\"測站\"].to_list()[i].split(\"\\'\")[1]][\"Precp\"].to_list()[a]\n",
    "            if precp == \"t\" or precp == \"T\" or precp == \"&\" or precp == \"X\":\n",
    "                precp = float(0.0)\n",
    "            WS = all_weather[district[\"測站\"].to_list()[i].split(\"\\'\")[1]][\"WS\"].to_list()[a]\n",
    "            if WS == \"/\" or WS == \"X\" or WS == \"...\":\n",
    "                WS = float(0.0)\n",
    "            WSGust = all_weather[district[\"測站\"].to_list()[i].split(\"\\'\")[1]][\"WSGust\"].to_list()[a]\n",
    "            if WSGust == \"...\" or WSGust == \"X\":\n",
    "                WSGust = float(0.0)\n",
    "            # print([float(precp),float(WS),float(WSGust)])\n",
    "            if a >= 2 and a <= 2161:\n",
    "                spring_rain[T_time[i].split()[1].split(\":\")[0]].append(float(precp))\n",
    "                spring_WS[T_time[i].split()[1].split(\":\")[0]].append(float(WS))\n",
    "                spring_WSGust[T_time[i].split()[1].split(\":\")[0]].append(float(WSGust))\n",
    "                # print(\"春\")\n",
    "            elif a <= 4345:\n",
    "                summer_rain[T_time[i].split()[1].split(\":\")[0]].append(float(precp))\n",
    "                summer_WS[T_time[i].split()[1].split(\":\")[0]].append(float(WS))\n",
    "                summer_WSGust[T_time[i].split()[1].split(\":\")[0]].append(float(WSGust))\n",
    "                # print(\"夏\")\n",
    "            elif a <= 6553:\n",
    "                autume_rain[T_time[i].split()[1].split(\":\")[0]].append(float(precp))\n",
    "                autume_WS[T_time[i].split()[1].split(\":\")[0]].append(float(WS))\n",
    "                autume_WSGust[T_time[i].split()[1].split(\":\")[0]].append(float(WSGust))\n",
    "                # print(\"秋\")\n",
    "            else:\n",
    "                winter_rain[T_time[i].split()[1].split(\":\")[0]].append(float(precp))\n",
    "                winter_WS[T_time[i].split()[1].split(\":\")[0]].append(float(WS))\n",
    "                winter_WSGust[T_time[i].split()[1].split(\":\")[0]].append(float(WSGust))\n",
    "                # print(\"冬\")\n",
    "            DataWithWeather.append([float(precp),float(WS),float(WSGust)])\n",
    "            data_dic[T_time[i].split()[1].split(\":\")[0]].append(float(precp))\n",
    "            all_WS[T_time[i].split()[1].split(\":\")[0]].append(float(WS))\n",
    "            all_WSGust[T_time[i].split()[1].split(\":\")[0]].append(float(WSGust))\n",
    "        except KeyError:\n",
    "            # print(district[\"測站\"].to_list()[i].split(\"\\'\")[1])\n",
    "            # print(district[\"測站\"].to_list()[i])\n",
    "            DataWithWeather.append([\"err\"])\n",
    "        except ValueError:\n",
    "            # print(\"============\")\n",
    "            # print(district[\"測站\"].to_list()[i])\n",
    "            # print([precp,WS,WSGust])\n",
    "            # print(\"============\")\n",
    "            DataWithWeather.append([\"err\"])\n",
    "\n",
    "# dfghdkmfgsdagtjytdhfgdfgsrhjydktudhgmfngdfhjkjf,gmhfngdhsjdkjdgmhnghsjdkjgmngdhjdkhmngdhjh\n",
    "'''\n",
    "T_time = []\n",
    "for i in Taipei[\"發生時間\"].to_list():\n",
    "    T_time.append(change_time_format(i))\n",
    "\n",
    "for i in range(0,len(Taipei[\"測站\"].to_list())):\n",
    "    # print(Taipei[\"測站\"].to_list()[i].split(\"\\'\")[1])\n",
    "    # print(T_time[i].split()[1].split(\":\")[0])\n",
    "    a = all_weather[Taipei[\"測站\"].to_list()[i].split(\"\\'\")[1]][\"Unnamed: 18\"].to_list().index(T_time[i])\n",
    "    # print(a)\n",
    "    precp = all_weather[Taipei[\"測站\"].to_list()[i].split(\"\\'\")[1]][\"Precp\"].to_list()[a]\n",
    "    if precp == \"t\" or precp == \"T\" or precp == \"&\":\n",
    "        precp = float(0.0)\n",
    "    WS = all_weather[Taipei[\"測站\"].to_list()[i].split(\"\\'\")[1]][\"WS\"].to_list()[a]\n",
    "    if WS == \"/\" or WS == \"X\":\n",
    "        WS = float(0.0)\n",
    "    WSGust = all_weather[Taipei[\"測站\"].to_list()[i].split(\"\\'\")[1]][\"WSGust\"].to_list()[a]\n",
    "    if WSGust == \"...\":\n",
    "        WSGust = float(0.0)\n",
    "    # print([float(precp),float(WS),float(WSGust)])\n",
    "    DataWithWeather.append([float(precp),float(WS),float(WSGust)])\n",
    "    data_dic[T_time[i].split()[1].split(\":\")[0]].append(float(precp))\n",
    "\n",
    "print(len(DataWithWeather))\n",
    "print(DataWithWeather.count([\"err\"]))\n",
    "'''\n"
   ]
  },
  {
   "cell_type": "code",
   "execution_count": 39,
   "metadata": {},
   "outputs": [
    {
     "name": "stdout",
     "output_type": "stream",
     "text": [
      "1\n",
      "2\n",
      "3\n",
      "4\n",
      "5\n",
      "185294\n",
      "143\n"
     ]
    }
   ],
   "source": [
    "Taipei =  pd.read_csv(\"data/updated/fixed_1_Taipei.csv\")\n",
    "New_Taipei =  pd.read_csv(\"data/updated/fixed_NewTaipei.csv\")\n",
    "Taoyuan = pd.read_csv(\"data/updated/fixed_Taoyuan.csv\")\n",
    "Tainan = pd.read_csv(\"data/updated/fixed_Tainan.csv\")\n",
    "Kaohsiung = pd.read_csv(\"data/updated/fixed_Kaohsiung.csv\")\n",
    "get_weather_data(New_Taipei)\n",
    "print(\"1\")\n",
    "get_weather_data(Taipei)\n",
    "print(\"2\")\n",
    "get_weather_data(Taoyuan)\n",
    "print(\"3\")\n",
    "get_weather_data(Tainan)\n",
    "print(\"4\")\n",
    "get_weather_data(Kaohsiung)\n",
    "print(\"5\")\n",
    "print(len(DataWithWeather))\n",
    "print(DataWithWeather.count([\"err\"]))"
   ]
  },
  {
   "cell_type": "code",
   "execution_count": 32,
   "metadata": {},
   "outputs": [
    {
     "name": "stdout",
     "output_type": "stream",
     "text": [
      "24\n",
      "24\n",
      "24\n",
      "24\n"
     ]
    }
   ],
   "source": [
    "print(len(spring_rain))\n",
    "print(len(summer_rain))\n",
    "print(len(autume_rain))\n",
    "print(len(winter_rain))"
   ]
  },
  {
   "cell_type": "code",
   "execution_count": 48,
   "metadata": {},
   "outputs": [],
   "source": [
    "def draw(season_dic):\n",
    "    import matplotlib.pyplot as plt\n",
    "    temp = []\n",
    "    for i in season_dic.keys():\n",
    "        temp.append(i)\n",
    "    x = []\n",
    "    y = []\n",
    "    for i in temp:\n",
    "        season_dic[i] = sorted(list(set(season_dic[i])))\n",
    "        for j in season_dic[i]:\n",
    "            x.append(j)\n",
    "            y.append(int(i))\n",
    "    plt.plot(x,y,\"o\" ,color='blue')\n",
    "    plt.xlim(0,25)\n",
    "    plt.show()"
   ]
  },
  {
   "cell_type": "code",
   "execution_count": 34,
   "metadata": {},
   "outputs": [
    {
     "ename": "SyntaxError",
     "evalue": "invalid syntax (<ipython-input-34-21376196e8b4>, line 1)",
     "output_type": "error",
     "traceback": [
      "\u001b[0;36m  File \u001b[0;32m\"<ipython-input-34-21376196e8b4>\"\u001b[0;36m, line \u001b[0;32m1\u001b[0m\n\u001b[0;31m    list([0:120])\u001b[0m\n\u001b[0m           ^\u001b[0m\n\u001b[0;31mSyntaxError\u001b[0m\u001b[0;31m:\u001b[0m invalid syntax\n"
     ]
    }
   ],
   "source": [
    "# draw(data_dic)\n",
    "# draw(spring_rain)\n",
    "# draw(summer_rain)\n",
    "# draw(autume_rain)\n",
    "# draw(winter_rain)"
   ]
  },
  {
   "cell_type": "code",
   "execution_count": null,
   "metadata": {},
   "outputs": [],
   "source": [
    "draw(all_WS)\n",
    "draw(spring_WS)\n",
    "draw(summer_WS)\n",
    "draw(autume_WS)\n",
    "draw(winter_WS)"
   ]
  },
  {
   "cell_type": "code",
   "execution_count": 51,
   "metadata": {},
   "outputs": [
    {
     "data": {
      "image/png": "[encoded data removed]",
      "text/plain": [
       "<Figure size 432x288 with 1 Axes>"
      ]
     },
     "metadata": {
      "needs_background": "light"
     },
     "output_type": "display_data"
    },
    {
     "data": {
      "image/png": "[encoded data removed]",
      "text/plain": [
       "<Figure size 432x288 with 1 Axes>"
      ]
     },
     "metadata": {
      "needs_background": "light"
     },
     "output_type": "display_data"
    },
    {
     "data": {
      "image/png": "[encoded data removed]",
      "text/plain": [
       "<Figure size 432x288 with 1 Axes>"
      ]
     },
     "metadata": {
      "needs_background": "light"
     },
     "output_type": "display_data"
    },
    {
     "data": {
      "image/png": "[encoded data removed]",
      "text/plain": [
       "<Figure size 432x288 with 1 Axes>"
      ]
     },
     "metadata": {
      "needs_background": "light"
     },
     "output_type": "display_data"
    },
    {
     "data": {
      "image/png": "[encoded data removed]",
      "text/plain": [
       "<Figure size 432x288 with 1 Axes>"
      ]
     },
     "metadata": {
      "needs_background": "light"
     },
     "output_type": "display_data"
    }
   ],
   "source": [
    "draw(all_WSGust)\n",
    "draw(spring_WSGust)\n",
    "draw(summer_WSGust)\n",
    "draw(autume_WSGust)\n",
    "draw(winter_WSGust)"
   ]
  },
  {
   "cell_type": "code",
   "execution_count": null,
   "metadata": {},
   "outputs": [],
   "source": []
  }
 ],
 "metadata": {
  "kernelspec": {
   "display_name": "Python 3.6.8 ('venv': venv)",
   "language": "python",
   "name": "python3"
  },
  "language_info": {
   "codemirror_mode": {
    "name": "ipython",
    "version": 3
   },
   "file_extension": ".py",
   "mimetype": "text/x-python",
   "name": "python",
   "nbconvert_exporter": "python",
   "pygments_lexer": "ipython3",
   "version": "3.6.8"
  },
  "orig_nbformat": 4,
  "vscode": {
   "interpreter": {
    "hash": "b55af0a5edf9875be5f14831d3c9d32ce883eefb12aba86f7dfec70c01e24ec2"
   }
  }
 },
 "nbformat": 4,
 "nbformat_minor": 2
}
