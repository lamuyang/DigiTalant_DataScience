r a <= 2161:
            #     spring_rain[T_time[i].split()[1].split(":")[0]].append(float(precp))
            #     print("春")
            # elif a <= 4345:
            #     summer_rain[T_time[i].split()[1].split(":")[0]].append(float(precp))
            #     print("夏")
            # elif a <= 6553:
            #     autume_rain[T_time[i].split()[1].split(":")[0]].append(float(precp))
            #     print("秋")
            # else:
            #     winter_rain[T_time[i].split()[1].split(":")[0]].append(float(precp))
            #     print("